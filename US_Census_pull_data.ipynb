{
 "cells": [
  {
   "cell_type": "code",
   "execution_count": 3,
   "metadata": {},
   "outputs": [],
   "source": [
    "#import dependencies\n",
    "import matplotlib.pyplot as plt\n",
    "import pandas as pd\n",
    "import numpy as np\n",
    "import requests\n",
    "import time\n",
    "from pprint import pprint\n",
    "from census import Census\n",
    "\n",
    "#import API key\n",
    "from US_Census_api_key import census_api_key\n",
    "\n",
    "#name output file\n",
    "output_data_file = \"US_employment_data.csv\"\n",
    "\n"
   ]
  },
  {
   "cell_type": "code",
   "execution_count": 4,
   "metadata": {},
   "outputs": [],
   "source": [
    "base_url=\"https://api.census.gov/data/timeseries/qwi/sa\"\n",
    "params={\"key\":census_api_key,\n",
    "        \"get\":\"Emp\",\n",
    "        \"for\":\"county:198\",\n",
    "        \"in\":\"state:02\",\n",
    "        \"year\":\"2014\",\n",
    "        \"quarter\":\"1\",\n",
    "        \"sex\":\"1\",\n",
    "        \"sex\":\"2\",\n",
    "        \"agegrp\":\"A02\",\n",
    "        \"agegrp\":\"A07\",\n",
    "        \"ownercode\":\"A05\",\n",
    "        \"firmsize\":\"1\",\n",
    "        \"seasonadj\":\"U\",\n",
    "        \"industry\":\"11\"\n",
    "}\n"
   ]
  },
  {
   "cell_type": "code",
   "execution_count": 5,
   "metadata": {},
   "outputs": [
    {
     "name": "stdout",
     "output_type": "stream",
     "text": [
      "https://api.census.gov/data/timeseries/qwi/sa?key=156fd5d56212116d515ea82311340f1093d01204&get=Emp&for=county%3A198&in=state%3A02&year=2014&quarter=1&sex=2&agegrp=A07&ownercode=A05&firmsize=1&seasonadj=U&industry=11\n",
      "[['Emp',\n",
      "  'year',\n",
      "  'quarter',\n",
      "  'sex',\n",
      "  'agegrp',\n",
      "  'ownercode',\n",
      "  'firmsize',\n",
      "  'seasonadj',\n",
      "  'industry',\n",
      "  'state',\n",
      "  'county'],\n",
      " [None, '2014', '1', '2', 'A07', 'A05', '1', 'U', '11', '02', '198']]\n"
     ]
    }
   ],
   "source": [
    "response = requests.get(base_url, params=params)\n",
    "print(response.url)\n",
    "first_test=response.json()\n",
    "pprint(first_test)"
   ]
  },
  {
   "cell_type": "code",
   "execution_count": null,
   "metadata": {},
   "outputs": [],
   "source": []
  },
  {
   "cell_type": "code",
   "execution_count": null,
   "metadata": {},
   "outputs": [],
   "source": []
  }
 ],
 "metadata": {
  "kernelspec": {
   "display_name": "Python 3",
   "language": "python",
   "name": "python3"
  },
  "language_info": {
   "codemirror_mode": {
    "name": "ipython",
    "version": 3
   },
   "file_extension": ".py",
   "mimetype": "text/x-python",
   "name": "python",
   "nbconvert_exporter": "python",
   "pygments_lexer": "ipython3",
   "version": "3.6.7"
  }
 },
 "nbformat": 4,
 "nbformat_minor": 2
}
